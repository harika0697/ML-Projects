{
 "cells": [
  {
   "cell_type": "code",
   "execution_count": 1,
   "id": "a4265754",
   "metadata": {
    "_cell_guid": "b1076dfc-b9ad-4769-8c92-a6c4dae69d19",
    "_uuid": "8f2839f25d086af736a60e9eeb907d3b93b6e0e5",
    "execution": {
     "iopub.execute_input": "2024-09-17T00:00:28.669648Z",
     "iopub.status.busy": "2024-09-17T00:00:28.669088Z",
     "iopub.status.idle": "2024-09-17T00:00:32.010397Z",
     "shell.execute_reply": "2024-09-17T00:00:32.009107Z"
    },
    "papermill": {
     "duration": 3.366094,
     "end_time": "2024-09-17T00:00:32.013732",
     "exception": false,
     "start_time": "2024-09-17T00:00:28.647638",
     "status": "completed"
    },
    "tags": []
   },
   "outputs": [],
   "source": [
    "import numpy as np\n",
    "import pandas as pd\n",
    "import matplotlib.pyplot as plt\n",
    "import seaborn as sns\n",
    "\n",
    "import warnings \n",
    "warnings.filterwarnings('ignore')\n",
    "\n",
    "plt.style.use('ggplot')"
   ]
  },
  {
   "cell_type": "code",
   "execution_count": 2,
   "id": "13a0f027",
   "metadata": {
    "execution": {
     "iopub.execute_input": "2024-09-17T00:00:32.051090Z",
     "iopub.status.busy": "2024-09-17T00:00:32.050430Z",
     "iopub.status.idle": "2024-09-17T00:00:32.092539Z",
     "shell.execute_reply": "2024-09-17T00:00:32.091159Z"
    },
    "papermill": {
     "duration": 0.064144,
     "end_time": "2024-09-17T00:00:32.095662",
     "exception": false,
     "start_time": "2024-09-17T00:00:32.031518",
     "status": "completed"
    },
    "tags": []
   },
   "outputs": [],
   "source": [
    "train_df = pd.read_csv('/kaggle/input/titanic/train.csv')\n",
    "test_df = pd.read_csv('/kaggle/input/titanic/test.csv')\n"
   ]
  },
  {
   "cell_type": "code",
   "execution_count": 3,
   "id": "62312704",
   "metadata": {
    "execution": {
     "iopub.execute_input": "2024-09-17T00:00:32.133941Z",
     "iopub.status.busy": "2024-09-17T00:00:32.133435Z",
     "iopub.status.idle": "2024-09-17T00:00:32.140898Z",
     "shell.execute_reply": "2024-09-17T00:00:32.139674Z"
    },
    "papermill": {
     "duration": 0.030146,
     "end_time": "2024-09-17T00:00:32.143925",
     "exception": false,
     "start_time": "2024-09-17T00:00:32.113779",
     "status": "completed"
    },
    "tags": []
   },
   "outputs": [],
   "source": [
    "train = train_df.copy()\n",
    "test= test_df.copy()"
   ]
  },
  {
   "cell_type": "code",
   "execution_count": 4,
   "id": "2c35286c",
   "metadata": {
    "execution": {
     "iopub.execute_input": "2024-09-17T00:00:32.181795Z",
     "iopub.status.busy": "2024-09-17T00:00:32.180452Z",
     "iopub.status.idle": "2024-09-17T00:00:32.219561Z",
     "shell.execute_reply": "2024-09-17T00:00:32.217773Z"
    },
    "papermill": {
     "duration": 0.061619,
     "end_time": "2024-09-17T00:00:32.222888",
     "exception": false,
     "start_time": "2024-09-17T00:00:32.161269",
     "status": "completed"
    },
    "tags": []
   },
   "outputs": [
    {
     "name": "stdout",
     "output_type": "stream",
     "text": [
      "<class 'pandas.core.frame.DataFrame'>\n",
      "RangeIndex: 891 entries, 0 to 890\n",
      "Data columns (total 12 columns):\n",
      " #   Column       Non-Null Count  Dtype  \n",
      "---  ------       --------------  -----  \n",
      " 0   PassengerId  891 non-null    int64  \n",
      " 1   Survived     891 non-null    int64  \n",
      " 2   Pclass       891 non-null    int64  \n",
      " 3   Name         891 non-null    object \n",
      " 4   Sex          891 non-null    object \n",
      " 5   Age          714 non-null    float64\n",
      " 6   SibSp        891 non-null    int64  \n",
      " 7   Parch        891 non-null    int64  \n",
      " 8   Ticket       891 non-null    object \n",
      " 9   Fare         891 non-null    float64\n",
      " 10  Cabin        204 non-null    object \n",
      " 11  Embarked     889 non-null    object \n",
      "dtypes: float64(2), int64(5), object(5)\n",
      "memory usage: 83.7+ KB\n",
      "None\n"
     ]
    }
   ],
   "source": [
    "print(train.info())"
   ]
  },
  {
   "cell_type": "code",
   "execution_count": 5,
   "id": "4dd0b204",
   "metadata": {
    "execution": {
     "iopub.execute_input": "2024-09-17T00:00:32.261452Z",
     "iopub.status.busy": "2024-09-17T00:00:32.260892Z",
     "iopub.status.idle": "2024-09-17T00:00:32.281192Z",
     "shell.execute_reply": "2024-09-17T00:00:32.278642Z"
    },
    "papermill": {
     "duration": 0.043136,
     "end_time": "2024-09-17T00:00:32.284851",
     "exception": false,
     "start_time": "2024-09-17T00:00:32.241715",
     "status": "completed"
    },
    "tags": []
   },
   "outputs": [
    {
     "name": "stdout",
     "output_type": "stream",
     "text": [
      "<class 'pandas.core.frame.DataFrame'>\n",
      "RangeIndex: 418 entries, 0 to 417\n",
      "Data columns (total 11 columns):\n",
      " #   Column       Non-Null Count  Dtype  \n",
      "---  ------       --------------  -----  \n",
      " 0   PassengerId  418 non-null    int64  \n",
      " 1   Pclass       418 non-null    int64  \n",
      " 2   Name         418 non-null    object \n",
      " 3   Sex          418 non-null    object \n",
      " 4   Age          332 non-null    float64\n",
      " 5   SibSp        418 non-null    int64  \n",
      " 6   Parch        418 non-null    int64  \n",
      " 7   Ticket       418 non-null    object \n",
      " 8   Fare         417 non-null    float64\n",
      " 9   Cabin        91 non-null     object \n",
      " 10  Embarked     418 non-null    object \n",
      "dtypes: float64(2), int64(4), object(5)\n",
      "memory usage: 36.0+ KB\n",
      "None\n"
     ]
    }
   ],
   "source": [
    "print(test.info())"
   ]
  },
  {
   "cell_type": "code",
   "execution_count": 6,
   "id": "76905f6e",
   "metadata": {
    "execution": {
     "iopub.execute_input": "2024-09-17T00:00:32.323741Z",
     "iopub.status.busy": "2024-09-17T00:00:32.323243Z",
     "iopub.status.idle": "2024-09-17T00:00:32.363977Z",
     "shell.execute_reply": "2024-09-17T00:00:32.362167Z"
    },
    "papermill": {
     "duration": 0.062917,
     "end_time": "2024-09-17T00:00:32.366856",
     "exception": false,
     "start_time": "2024-09-17T00:00:32.303939",
     "status": "completed"
    },
    "tags": []
   },
   "outputs": [
    {
     "name": "stdout",
     "output_type": "stream",
     "text": [
      "       PassengerId    Survived      Pclass         Age       SibSp  \\\n",
      "count   891.000000  891.000000  891.000000  714.000000  891.000000   \n",
      "mean    446.000000    0.383838    2.308642   29.699118    0.523008   \n",
      "std     257.353842    0.486592    0.836071   14.526497    1.102743   \n",
      "min       1.000000    0.000000    1.000000    0.420000    0.000000   \n",
      "25%     223.500000    0.000000    2.000000   20.125000    0.000000   \n",
      "50%     446.000000    0.000000    3.000000   28.000000    0.000000   \n",
      "75%     668.500000    1.000000    3.000000   38.000000    1.000000   \n",
      "max     891.000000    1.000000    3.000000   80.000000    8.000000   \n",
      "\n",
      "            Parch        Fare  \n",
      "count  891.000000  891.000000  \n",
      "mean     0.381594   32.204208  \n",
      "std      0.806057   49.693429  \n",
      "min      0.000000    0.000000  \n",
      "25%      0.000000    7.910400  \n",
      "50%      0.000000   14.454200  \n",
      "75%      0.000000   31.000000  \n",
      "max      6.000000  512.329200  \n"
     ]
    }
   ],
   "source": [
    "print(train.describe())"
   ]
  },
  {
   "cell_type": "code",
   "execution_count": 7,
   "id": "a55c59b8",
   "metadata": {
    "execution": {
     "iopub.execute_input": "2024-09-17T00:00:32.405847Z",
     "iopub.status.busy": "2024-09-17T00:00:32.405345Z",
     "iopub.status.idle": "2024-09-17T00:00:32.435815Z",
     "shell.execute_reply": "2024-09-17T00:00:32.434379Z"
    },
    "papermill": {
     "duration": 0.053675,
     "end_time": "2024-09-17T00:00:32.438810",
     "exception": false,
     "start_time": "2024-09-17T00:00:32.385135",
     "status": "completed"
    },
    "tags": []
   },
   "outputs": [
    {
     "name": "stdout",
     "output_type": "stream",
     "text": [
      "       PassengerId      Pclass         Age       SibSp       Parch        Fare\n",
      "count   418.000000  418.000000  332.000000  418.000000  418.000000  417.000000\n",
      "mean   1100.500000    2.265550   30.272590    0.447368    0.392344   35.627188\n",
      "std     120.810458    0.841838   14.181209    0.896760    0.981429   55.907576\n",
      "min     892.000000    1.000000    0.170000    0.000000    0.000000    0.000000\n",
      "25%     996.250000    1.000000   21.000000    0.000000    0.000000    7.895800\n",
      "50%    1100.500000    3.000000   27.000000    0.000000    0.000000   14.454200\n",
      "75%    1204.750000    3.000000   39.000000    1.000000    0.000000   31.500000\n",
      "max    1309.000000    3.000000   76.000000    8.000000    9.000000  512.329200\n"
     ]
    }
   ],
   "source": [
    "print(test.describe())"
   ]
  },
  {
   "cell_type": "code",
   "execution_count": 8,
   "id": "ee7dafd8",
   "metadata": {
    "execution": {
     "iopub.execute_input": "2024-09-17T00:00:32.477354Z",
     "iopub.status.busy": "2024-09-17T00:00:32.476387Z",
     "iopub.status.idle": "2024-09-17T00:00:32.486243Z",
     "shell.execute_reply": "2024-09-17T00:00:32.484514Z"
    },
    "papermill": {
     "duration": 0.033321,
     "end_time": "2024-09-17T00:00:32.489873",
     "exception": false,
     "start_time": "2024-09-17T00:00:32.456552",
     "status": "completed"
    },
    "tags": []
   },
   "outputs": [
    {
     "name": "stdout",
     "output_type": "stream",
     "text": [
      "PassengerId      0\n",
      "Survived         0\n",
      "Pclass           0\n",
      "Name             0\n",
      "Sex              0\n",
      "Age            177\n",
      "SibSp            0\n",
      "Parch            0\n",
      "Ticket           0\n",
      "Fare             0\n",
      "Cabin          687\n",
      "Embarked         2\n",
      "dtype: int64\n"
     ]
    }
   ],
   "source": [
    "print(train.isnull().sum())"
   ]
  },
  {
   "cell_type": "code",
   "execution_count": 9,
   "id": "09df9b35",
   "metadata": {
    "execution": {
     "iopub.execute_input": "2024-09-17T00:00:32.530243Z",
     "iopub.status.busy": "2024-09-17T00:00:32.529347Z",
     "iopub.status.idle": "2024-09-17T00:00:32.538418Z",
     "shell.execute_reply": "2024-09-17T00:00:32.536960Z"
    },
    "papermill": {
     "duration": 0.033372,
     "end_time": "2024-09-17T00:00:32.542815",
     "exception": false,
     "start_time": "2024-09-17T00:00:32.509443",
     "status": "completed"
    },
    "tags": []
   },
   "outputs": [
    {
     "name": "stdout",
     "output_type": "stream",
     "text": [
      "PassengerId      0\n",
      "Pclass           0\n",
      "Name             0\n",
      "Sex              0\n",
      "Age             86\n",
      "SibSp            0\n",
      "Parch            0\n",
      "Ticket           0\n",
      "Fare             1\n",
      "Cabin          327\n",
      "Embarked         0\n",
      "dtype: int64\n"
     ]
    }
   ],
   "source": [
    "print(test.isnull().sum())"
   ]
  },
  {
   "cell_type": "code",
   "execution_count": 10,
   "id": "357a5d2e",
   "metadata": {
    "execution": {
     "iopub.execute_input": "2024-09-17T00:00:32.583456Z",
     "iopub.status.busy": "2024-09-17T00:00:32.582884Z",
     "iopub.status.idle": "2024-09-17T00:00:32.590849Z",
     "shell.execute_reply": "2024-09-17T00:00:32.589156Z"
    },
    "papermill": {
     "duration": 0.031954,
     "end_time": "2024-09-17T00:00:32.594488",
     "exception": false,
     "start_time": "2024-09-17T00:00:32.562534",
     "status": "completed"
    },
    "tags": []
   },
   "outputs": [
    {
     "name": "stdout",
     "output_type": "stream",
     "text": [
      "Index(['PassengerId', 'Survived', 'Pclass', 'Name', 'Sex', 'Age', 'SibSp',\n",
      "       'Parch', 'Ticket', 'Fare', 'Cabin', 'Embarked'],\n",
      "      dtype='object')\n"
     ]
    }
   ],
   "source": [
    "print(train.columns)"
   ]
  },
  {
   "cell_type": "code",
   "execution_count": 11,
   "id": "882847e8",
   "metadata": {
    "execution": {
     "iopub.execute_input": "2024-09-17T00:00:32.635222Z",
     "iopub.status.busy": "2024-09-17T00:00:32.634720Z",
     "iopub.status.idle": "2024-09-17T00:00:32.642468Z",
     "shell.execute_reply": "2024-09-17T00:00:32.640700Z"
    },
    "papermill": {
     "duration": 0.032279,
     "end_time": "2024-09-17T00:00:32.645693",
     "exception": false,
     "start_time": "2024-09-17T00:00:32.613414",
     "status": "completed"
    },
    "tags": []
   },
   "outputs": [
    {
     "name": "stdout",
     "output_type": "stream",
     "text": [
      "Index(['PassengerId', 'Pclass', 'Name', 'Sex', 'Age', 'SibSp', 'Parch',\n",
      "       'Ticket', 'Fare', 'Cabin', 'Embarked'],\n",
      "      dtype='object')\n"
     ]
    }
   ],
   "source": [
    "print(test.columns)"
   ]
  },
  {
   "cell_type": "code",
   "execution_count": 12,
   "id": "a052f308",
   "metadata": {
    "execution": {
     "iopub.execute_input": "2024-09-17T00:00:32.687198Z",
     "iopub.status.busy": "2024-09-17T00:00:32.686665Z",
     "iopub.status.idle": "2024-09-17T00:00:32.701089Z",
     "shell.execute_reply": "2024-09-17T00:00:32.699559Z"
    },
    "papermill": {
     "duration": 0.038505,
     "end_time": "2024-09-17T00:00:32.704465",
     "exception": false,
     "start_time": "2024-09-17T00:00:32.665960",
     "status": "completed"
    },
    "tags": []
   },
   "outputs": [],
   "source": [
    "train.drop(columns=['PassengerId', 'Name', 'Ticket', 'Cabin'], axis=1, inplace=True)\n",
    "test.drop(columns= ['PassengerId', 'Name', 'Ticket', 'Cabin'], axis=1, inplace= True)"
   ]
  },
  {
   "cell_type": "code",
   "execution_count": 13,
   "id": "fb47495c",
   "metadata": {
    "execution": {
     "iopub.execute_input": "2024-09-17T00:00:32.745629Z",
     "iopub.status.busy": "2024-09-17T00:00:32.745148Z",
     "iopub.status.idle": "2024-09-17T00:00:32.757369Z",
     "shell.execute_reply": "2024-09-17T00:00:32.755767Z"
    },
    "papermill": {
     "duration": 0.035845,
     "end_time": "2024-09-17T00:00:32.760494",
     "exception": false,
     "start_time": "2024-09-17T00:00:32.724649",
     "status": "completed"
    },
    "tags": []
   },
   "outputs": [
    {
     "data": {
      "text/plain": [
       "28.0"
      ]
     },
     "execution_count": 13,
     "metadata": {},
     "output_type": "execute_result"
    }
   ],
   "source": [
    "train['Age'].median()"
   ]
  },
  {
   "cell_type": "code",
   "execution_count": 14,
   "id": "d46b23dc",
   "metadata": {
    "execution": {
     "iopub.execute_input": "2024-09-17T00:00:32.803604Z",
     "iopub.status.busy": "2024-09-17T00:00:32.803070Z",
     "iopub.status.idle": "2024-09-17T00:00:32.813410Z",
     "shell.execute_reply": "2024-09-17T00:00:32.811895Z"
    },
    "papermill": {
     "duration": 0.035568,
     "end_time": "2024-09-17T00:00:32.816034",
     "exception": false,
     "start_time": "2024-09-17T00:00:32.780466",
     "status": "completed"
    },
    "tags": []
   },
   "outputs": [
    {
     "data": {
      "text/plain": [
       "'S'"
      ]
     },
     "execution_count": 14,
     "metadata": {},
     "output_type": "execute_result"
    }
   ],
   "source": [
    "train['Embarked'].mode()[0]"
   ]
  },
  {
   "cell_type": "code",
   "execution_count": 15,
   "id": "2bcd038e",
   "metadata": {
    "execution": {
     "iopub.execute_input": "2024-09-17T00:00:32.857170Z",
     "iopub.status.busy": "2024-09-17T00:00:32.856034Z",
     "iopub.status.idle": "2024-09-17T00:00:32.866709Z",
     "shell.execute_reply": "2024-09-17T00:00:32.865469Z"
    },
    "papermill": {
     "duration": 0.034107,
     "end_time": "2024-09-17T00:00:32.869606",
     "exception": false,
     "start_time": "2024-09-17T00:00:32.835499",
     "status": "completed"
    },
    "tags": []
   },
   "outputs": [],
   "source": [
    "train['Age'].fillna(train['Age'].median(), inplace=True)\n",
    "train['Embarked'].fillna(train['Embarked'].mode()[0], inplace=True)"
   ]
  },
  {
   "cell_type": "code",
   "execution_count": 16,
   "id": "5d00461d",
   "metadata": {
    "execution": {
     "iopub.execute_input": "2024-09-17T00:00:32.912965Z",
     "iopub.status.busy": "2024-09-17T00:00:32.912484Z",
     "iopub.status.idle": "2024-09-17T00:00:32.923626Z",
     "shell.execute_reply": "2024-09-17T00:00:32.921666Z"
    },
    "papermill": {
     "duration": 0.037815,
     "end_time": "2024-09-17T00:00:32.926918",
     "exception": false,
     "start_time": "2024-09-17T00:00:32.889103",
     "status": "completed"
    },
    "tags": []
   },
   "outputs": [
    {
     "name": "stdout",
     "output_type": "stream",
     "text": [
      "Survived    0\n",
      "Pclass      0\n",
      "Sex         0\n",
      "Age         0\n",
      "SibSp       0\n",
      "Parch       0\n",
      "Fare        0\n",
      "Embarked    0\n",
      "dtype: int64\n"
     ]
    }
   ],
   "source": [
    "print(train.isnull().sum())"
   ]
  },
  {
   "cell_type": "code",
   "execution_count": 17,
   "id": "d5a318d2",
   "metadata": {
    "execution": {
     "iopub.execute_input": "2024-09-17T00:00:32.969011Z",
     "iopub.status.busy": "2024-09-17T00:00:32.968524Z",
     "iopub.status.idle": "2024-09-17T00:00:32.978452Z",
     "shell.execute_reply": "2024-09-17T00:00:32.977168Z"
    },
    "papermill": {
     "duration": 0.035212,
     "end_time": "2024-09-17T00:00:32.981929",
     "exception": false,
     "start_time": "2024-09-17T00:00:32.946717",
     "status": "completed"
    },
    "tags": []
   },
   "outputs": [
    {
     "data": {
      "text/plain": [
       "27.0"
      ]
     },
     "execution_count": 17,
     "metadata": {},
     "output_type": "execute_result"
    }
   ],
   "source": [
    "test['Age'].median()"
   ]
  },
  {
   "cell_type": "code",
   "execution_count": 18,
   "id": "97949f9a",
   "metadata": {
    "execution": {
     "iopub.execute_input": "2024-09-17T00:00:33.026365Z",
     "iopub.status.busy": "2024-09-17T00:00:33.025877Z",
     "iopub.status.idle": "2024-09-17T00:00:33.036425Z",
     "shell.execute_reply": "2024-09-17T00:00:33.035128Z"
    },
    "papermill": {
     "duration": 0.035106,
     "end_time": "2024-09-17T00:00:33.039448",
     "exception": false,
     "start_time": "2024-09-17T00:00:33.004342",
     "status": "completed"
    },
    "tags": []
   },
   "outputs": [
    {
     "data": {
      "text/plain": [
       "14.4542"
      ]
     },
     "execution_count": 18,
     "metadata": {},
     "output_type": "execute_result"
    }
   ],
   "source": [
    "test['Fare'].median()"
   ]
  },
  {
   "cell_type": "code",
   "execution_count": 19,
   "id": "e3c5624c",
   "metadata": {
    "execution": {
     "iopub.execute_input": "2024-09-17T00:00:33.083480Z",
     "iopub.status.busy": "2024-09-17T00:00:33.082375Z",
     "iopub.status.idle": "2024-09-17T00:00:33.095663Z",
     "shell.execute_reply": "2024-09-17T00:00:33.093992Z"
    },
    "papermill": {
     "duration": 0.03897,
     "end_time": "2024-09-17T00:00:33.099094",
     "exception": false,
     "start_time": "2024-09-17T00:00:33.060124",
     "status": "completed"
    },
    "tags": []
   },
   "outputs": [],
   "source": [
    "test['Age'].fillna(test['Age'].median(), inplace=True)\n",
    "test['Fare'].fillna(test['Fare'].median(), inplace=True)"
   ]
  },
  {
   "cell_type": "code",
   "execution_count": 20,
   "id": "0ba9a29a",
   "metadata": {
    "execution": {
     "iopub.execute_input": "2024-09-17T00:00:33.142786Z",
     "iopub.status.busy": "2024-09-17T00:00:33.141082Z",
     "iopub.status.idle": "2024-09-17T00:00:33.150835Z",
     "shell.execute_reply": "2024-09-17T00:00:33.149152Z"
    },
    "papermill": {
     "duration": 0.034636,
     "end_time": "2024-09-17T00:00:33.154274",
     "exception": false,
     "start_time": "2024-09-17T00:00:33.119638",
     "status": "completed"
    },
    "tags": []
   },
   "outputs": [
    {
     "name": "stdout",
     "output_type": "stream",
     "text": [
      "Pclass      0\n",
      "Sex         0\n",
      "Age         0\n",
      "SibSp       0\n",
      "Parch       0\n",
      "Fare        0\n",
      "Embarked    0\n",
      "dtype: int64\n"
     ]
    }
   ],
   "source": [
    "print(test.isnull().sum())"
   ]
  },
  {
   "cell_type": "code",
   "execution_count": 21,
   "id": "1ff2d486",
   "metadata": {
    "execution": {
     "iopub.execute_input": "2024-09-17T00:00:33.197302Z",
     "iopub.status.busy": "2024-09-17T00:00:33.196019Z",
     "iopub.status.idle": "2024-09-17T00:00:33.209996Z",
     "shell.execute_reply": "2024-09-17T00:00:33.208519Z"
    },
    "papermill": {
     "duration": 0.039046,
     "end_time": "2024-09-17T00:00:33.213145",
     "exception": false,
     "start_time": "2024-09-17T00:00:33.174099",
     "status": "completed"
    },
    "tags": []
   },
   "outputs": [
    {
     "data": {
      "text/plain": [
       "Survived\n",
       "0    549\n",
       "1    342\n",
       "Name: count, dtype: int64"
      ]
     },
     "execution_count": 21,
     "metadata": {},
     "output_type": "execute_result"
    }
   ],
   "source": [
    "train['Survived'].value_counts()"
   ]
  },
  {
   "cell_type": "code",
   "execution_count": 22,
   "id": "255cff62",
   "metadata": {
    "execution": {
     "iopub.execute_input": "2024-09-17T00:00:33.255639Z",
     "iopub.status.busy": "2024-09-17T00:00:33.255149Z",
     "iopub.status.idle": "2024-09-17T00:00:33.266821Z",
     "shell.execute_reply": "2024-09-17T00:00:33.265439Z"
    },
    "papermill": {
     "duration": 0.037516,
     "end_time": "2024-09-17T00:00:33.269921",
     "exception": false,
     "start_time": "2024-09-17T00:00:33.232405",
     "status": "completed"
    },
    "tags": []
   },
   "outputs": [
    {
     "data": {
      "text/plain": [
       "Pclass\n",
       "3    491\n",
       "1    216\n",
       "2    184\n",
       "Name: count, dtype: int64"
      ]
     },
     "execution_count": 22,
     "metadata": {},
     "output_type": "execute_result"
    }
   ],
   "source": [
    "train['Pclass'].value_counts()"
   ]
  },
  {
   "cell_type": "code",
   "execution_count": 23,
   "id": "c4f194a7",
   "metadata": {
    "execution": {
     "iopub.execute_input": "2024-09-17T00:00:33.312021Z",
     "iopub.status.busy": "2024-09-17T00:00:33.311576Z",
     "iopub.status.idle": "2024-09-17T00:00:33.322865Z",
     "shell.execute_reply": "2024-09-17T00:00:33.321499Z"
    },
    "papermill": {
     "duration": 0.035496,
     "end_time": "2024-09-17T00:00:33.325503",
     "exception": false,
     "start_time": "2024-09-17T00:00:33.290007",
     "status": "completed"
    },
    "tags": []
   },
   "outputs": [
    {
     "data": {
      "text/plain": [
       "Sex\n",
       "male      577\n",
       "female    314\n",
       "Name: count, dtype: int64"
      ]
     },
     "execution_count": 23,
     "metadata": {},
     "output_type": "execute_result"
    }
   ],
   "source": [
    "train['Sex'].value_counts()"
   ]
  },
  {
   "cell_type": "code",
   "execution_count": 24,
   "id": "c1bc7b73",
   "metadata": {
    "execution": {
     "iopub.execute_input": "2024-09-17T00:00:33.367841Z",
     "iopub.status.busy": "2024-09-17T00:00:33.367403Z",
     "iopub.status.idle": "2024-09-17T00:00:33.378809Z",
     "shell.execute_reply": "2024-09-17T00:00:33.377156Z"
    },
    "papermill": {
     "duration": 0.035997,
     "end_time": "2024-09-17T00:00:33.382179",
     "exception": false,
     "start_time": "2024-09-17T00:00:33.346182",
     "status": "completed"
    },
    "tags": []
   },
   "outputs": [
    {
     "data": {
      "text/plain": [
       "SibSp\n",
       "0    608\n",
       "1    209\n",
       "2     28\n",
       "4     18\n",
       "3     16\n",
       "8      7\n",
       "5      5\n",
       "Name: count, dtype: int64"
      ]
     },
     "execution_count": 24,
     "metadata": {},
     "output_type": "execute_result"
    }
   ],
   "source": [
    "train['SibSp'].value_counts()"
   ]
  },
  {
   "cell_type": "code",
   "execution_count": 25,
   "id": "d18415c8",
   "metadata": {
    "execution": {
     "iopub.execute_input": "2024-09-17T00:00:33.425840Z",
     "iopub.status.busy": "2024-09-17T00:00:33.424584Z",
     "iopub.status.idle": "2024-09-17T00:00:33.435495Z",
     "shell.execute_reply": "2024-09-17T00:00:33.434135Z"
    },
    "papermill": {
     "duration": 0.035533,
     "end_time": "2024-09-17T00:00:33.438250",
     "exception": false,
     "start_time": "2024-09-17T00:00:33.402717",
     "status": "completed"
    },
    "tags": []
   },
   "outputs": [
    {
     "data": {
      "text/plain": [
       "Parch\n",
       "0    678\n",
       "1    118\n",
       "2     80\n",
       "5      5\n",
       "3      5\n",
       "4      4\n",
       "6      1\n",
       "Name: count, dtype: int64"
      ]
     },
     "execution_count": 25,
     "metadata": {},
     "output_type": "execute_result"
    }
   ],
   "source": [
    "train['Parch'].value_counts()"
   ]
  },
  {
   "cell_type": "code",
   "execution_count": 26,
   "id": "a496dfb5",
   "metadata": {
    "execution": {
     "iopub.execute_input": "2024-09-17T00:00:33.482223Z",
     "iopub.status.busy": "2024-09-17T00:00:33.481738Z",
     "iopub.status.idle": "2024-09-17T00:00:33.492924Z",
     "shell.execute_reply": "2024-09-17T00:00:33.491466Z"
    },
    "papermill": {
     "duration": 0.037657,
     "end_time": "2024-09-17T00:00:33.496446",
     "exception": false,
     "start_time": "2024-09-17T00:00:33.458789",
     "status": "completed"
    },
    "tags": []
   },
   "outputs": [
    {
     "data": {
      "text/plain": [
       "Embarked\n",
       "S    646\n",
       "C    168\n",
       "Q     77\n",
       "Name: count, dtype: int64"
      ]
     },
     "execution_count": 26,
     "metadata": {},
     "output_type": "execute_result"
    }
   ],
   "source": [
    "train['Embarked'].value_counts()"
   ]
  },
  {
   "cell_type": "code",
   "execution_count": 27,
   "id": "fc449e1b",
   "metadata": {
    "execution": {
     "iopub.execute_input": "2024-09-17T00:00:33.539880Z",
     "iopub.status.busy": "2024-09-17T00:00:33.539367Z",
     "iopub.status.idle": "2024-09-17T00:00:33.550700Z",
     "shell.execute_reply": "2024-09-17T00:00:33.549364Z"
    },
    "papermill": {
     "duration": 0.035926,
     "end_time": "2024-09-17T00:00:33.553357",
     "exception": false,
     "start_time": "2024-09-17T00:00:33.517431",
     "status": "completed"
    },
    "tags": []
   },
   "outputs": [
    {
     "data": {
      "text/plain": [
       "Pclass\n",
       "3    218\n",
       "1    107\n",
       "2     93\n",
       "Name: count, dtype: int64"
      ]
     },
     "execution_count": 27,
     "metadata": {},
     "output_type": "execute_result"
    }
   ],
   "source": [
    "test['Pclass'].value_counts()"
   ]
  },
  {
   "cell_type": "code",
   "execution_count": 28,
   "id": "fde2255a",
   "metadata": {
    "execution": {
     "iopub.execute_input": "2024-09-17T00:00:33.597287Z",
     "iopub.status.busy": "2024-09-17T00:00:33.596739Z",
     "iopub.status.idle": "2024-09-17T00:00:33.608786Z",
     "shell.execute_reply": "2024-09-17T00:00:33.607282Z"
    },
    "papermill": {
     "duration": 0.038209,
     "end_time": "2024-09-17T00:00:33.612344",
     "exception": false,
     "start_time": "2024-09-17T00:00:33.574135",
     "status": "completed"
    },
    "tags": []
   },
   "outputs": [
    {
     "data": {
      "text/plain": [
       "Sex\n",
       "male      266\n",
       "female    152\n",
       "Name: count, dtype: int64"
      ]
     },
     "execution_count": 28,
     "metadata": {},
     "output_type": "execute_result"
    }
   ],
   "source": [
    "test['Sex'].value_counts()"
   ]
  },
  {
   "cell_type": "code",
   "execution_count": 29,
   "id": "8d622763",
   "metadata": {
    "execution": {
     "iopub.execute_input": "2024-09-17T00:00:33.658405Z",
     "iopub.status.busy": "2024-09-17T00:00:33.657830Z",
     "iopub.status.idle": "2024-09-17T00:00:33.669273Z",
     "shell.execute_reply": "2024-09-17T00:00:33.668079Z"
    },
    "papermill": {
     "duration": 0.037776,
     "end_time": "2024-09-17T00:00:33.672013",
     "exception": false,
     "start_time": "2024-09-17T00:00:33.634237",
     "status": "completed"
    },
    "tags": []
   },
   "outputs": [
    {
     "data": {
      "text/plain": [
       "SibSp\n",
       "0    283\n",
       "1    110\n",
       "2     14\n",
       "3      4\n",
       "4      4\n",
       "8      2\n",
       "5      1\n",
       "Name: count, dtype: int64"
      ]
     },
     "execution_count": 29,
     "metadata": {},
     "output_type": "execute_result"
    }
   ],
   "source": [
    "test['SibSp'].value_counts()"
   ]
  },
  {
   "cell_type": "code",
   "execution_count": 30,
   "id": "d3be8462",
   "metadata": {
    "execution": {
     "iopub.execute_input": "2024-09-17T00:00:33.715866Z",
     "iopub.status.busy": "2024-09-17T00:00:33.715436Z",
     "iopub.status.idle": "2024-09-17T00:00:33.728066Z",
     "shell.execute_reply": "2024-09-17T00:00:33.726369Z"
    },
    "papermill": {
     "duration": 0.03811,
     "end_time": "2024-09-17T00:00:33.731315",
     "exception": false,
     "start_time": "2024-09-17T00:00:33.693205",
     "status": "completed"
    },
    "tags": []
   },
   "outputs": [
    {
     "data": {
      "text/plain": [
       "Parch\n",
       "0    324\n",
       "1     52\n",
       "2     33\n",
       "3      3\n",
       "4      2\n",
       "9      2\n",
       "6      1\n",
       "5      1\n",
       "Name: count, dtype: int64"
      ]
     },
     "execution_count": 30,
     "metadata": {},
     "output_type": "execute_result"
    }
   ],
   "source": [
    "test['Parch'].value_counts()"
   ]
  },
  {
   "cell_type": "code",
   "execution_count": 31,
   "id": "d1bc95ac",
   "metadata": {
    "execution": {
     "iopub.execute_input": "2024-09-17T00:00:33.776322Z",
     "iopub.status.busy": "2024-09-17T00:00:33.775605Z",
     "iopub.status.idle": "2024-09-17T00:00:33.788324Z",
     "shell.execute_reply": "2024-09-17T00:00:33.786685Z"
    },
    "papermill": {
     "duration": 0.038691,
     "end_time": "2024-09-17T00:00:33.791370",
     "exception": false,
     "start_time": "2024-09-17T00:00:33.752679",
     "status": "completed"
    },
    "tags": []
   },
   "outputs": [
    {
     "data": {
      "text/plain": [
       "Embarked\n",
       "S    270\n",
       "C    102\n",
       "Q     46\n",
       "Name: count, dtype: int64"
      ]
     },
     "execution_count": 31,
     "metadata": {},
     "output_type": "execute_result"
    }
   ],
   "source": [
    "test['Embarked'].value_counts()"
   ]
  },
  {
   "cell_type": "code",
   "execution_count": 32,
   "id": "c73afbe6",
   "metadata": {
    "execution": {
     "iopub.execute_input": "2024-09-17T00:00:33.839248Z",
     "iopub.status.busy": "2024-09-17T00:00:33.838725Z",
     "iopub.status.idle": "2024-09-17T00:00:34.157872Z",
     "shell.execute_reply": "2024-09-17T00:00:34.156488Z"
    },
    "papermill": {
     "duration": 0.345982,
     "end_time": "2024-09-17T00:00:34.160879",
     "exception": false,
     "start_time": "2024-09-17T00:00:33.814897",
     "status": "completed"
    },
    "tags": []
   },
   "outputs": [
    {
     "data": {
      "text/plain": [
       "<Axes: xlabel='Survived', ylabel='count'>"
      ]
     },
     "execution_count": 32,
     "metadata": {},
     "output_type": "execute_result"
    },
    {
     "data": {
      "image/png": "[encoded data removed]",
      "text/plain": [
       "<Figure size 800x600 with 1 Axes>"
      ]
     },
     "metadata": {},
     "output_type": "display_data"
    }
   ],
   "source": [
    "plt.figure(figsize=(8,6))\n",
    "sns.countplot(x='Survived', data= train)"
   ]
  },
  {
   "cell_type": "code",
   "execution_count": 33,
   "id": "05d8c552",
   "metadata": {
    "execution": {
     "iopub.execute_input": "2024-09-17T00:00:34.207086Z",
     "iopub.status.busy": "2024-09-17T00:00:34.206599Z",
     "iopub.status.idle": "2024-09-17T00:00:34.480170Z",
     "shell.execute_reply": "2024-09-17T00:00:34.478422Z"
    },
    "papermill": {
     "duration": 0.3002,
     "end_time": "2024-09-17T00:00:34.483182",
     "exception": false,
     "start_time": "2024-09-17T00:00:34.182982",
     "status": "completed"
    },
    "tags": []
   },
   "outputs": [
    {
     "data": {
      "text/plain": [
       "<Axes: xlabel='Sex', ylabel='count'>"
      ]
     },
     "execution_count": 33,
     "metadata": {},
     "output_type": "execute_result"
    },
    {
     "data": {
      "image/png": "[encoded data removed]",
      "text/plain": [
       "<Figure size 800x600 with 1 Axes>"
      ]
     },
     "metadata": {},
     "output_type": "display_data"
    }
   ],
   "source": [
    "plt.figure(figsize=(8,6))\n",
    "sns.countplot(x='Sex', data= train)"
   ]
  },
  {
   "cell_type": "code",
   "execution_count": 34,
   "id": "e0ed1980",
   "metadata": {
    "execution": {
     "iopub.execute_input": "2024-09-17T00:00:34.529587Z",
     "iopub.status.busy": "2024-09-17T00:00:34.529095Z",
     "iopub.status.idle": "2024-09-17T00:00:34.836013Z",
     "shell.execute_reply": "2024-09-17T00:00:34.834571Z"
    },
    "papermill": {
     "duration": 0.335578,
     "end_time": "2024-09-17T00:00:34.840570",
     "exception": false,
     "start_time": "2024-09-17T00:00:34.504992",
     "status": "completed"
    },
    "tags": []
   },
   "outputs": [
    {
     "data": {
      "text/plain": [
       "<Axes: xlabel='Survived', ylabel='count'>"
      ]
     },
     "execution_count": 34,
     "metadata": {},
     "output_type": "execute_result"
    },
    {
     "data": {
      "image/png": "[encoded data removed]",
      "text/plain": [
       "<Figure size 800x600 with 1 Axes>"
      ]
     },
     "metadata": {},
     "output_type": "display_data"
    }
   ],
   "source": [
    "plt.figure(figsize=(8,6))\n",
    "sns.countplot(x='Survived', hue='Sex', data= train)"
   ]
  },
  {
   "cell_type": "code",
   "execution_count": 35,
   "id": "6dc0b2e4",
   "metadata": {
    "execution": {
     "iopub.execute_input": "2024-09-17T00:00:34.890777Z",
     "iopub.status.busy": "2024-09-17T00:00:34.889685Z",
     "iopub.status.idle": "2024-09-17T00:00:35.238180Z",
     "shell.execute_reply": "2024-09-17T00:00:35.236521Z"
    },
    "papermill": {
     "duration": 0.376767,
     "end_time": "2024-09-17T00:00:35.241560",
     "exception": false,
     "start_time": "2024-09-17T00:00:34.864793",
     "status": "completed"
    },
    "tags": []
   },
   "outputs": [
    {
     "data": {
      "text/plain": [
       "<Axes: xlabel='Survived', ylabel='count'>"
      ]
     },
     "execution_count": 35,
     "metadata": {},
     "output_type": "execute_result"
    },
    {
     "data": {
      "image/png": "[encoded data removed]",
      "text/plain": [
       "<Figure size 800x600 with 1 Axes>"
      ]
     },
     "metadata": {},
     "output_type": "display_data"
    }
   ],
   "source": [
    "plt.figure(figsize=(8,6))\n",
    "sns.countplot(x='Survived', hue='Pclass', data= train)"
   ]
  },
  {
   "cell_type": "code",
   "execution_count": 36,
   "id": "784602a8",
   "metadata": {
    "execution": {
     "iopub.execute_input": "2024-09-17T00:00:35.382785Z",
     "iopub.status.busy": "2024-09-17T00:00:35.381323Z",
     "iopub.status.idle": "2024-09-17T00:00:35.772766Z",
     "shell.execute_reply": "2024-09-17T00:00:35.771261Z"
    },
    "papermill": {
     "duration": 0.509779,
     "end_time": "2024-09-17T00:00:35.776077",
     "exception": false,
     "start_time": "2024-09-17T00:00:35.266298",
     "status": "completed"
    },
    "tags": []
   },
   "outputs": [
    {
     "data": {
      "text/plain": [
       "<Axes: xlabel='Survived', ylabel='Age'>"
      ]
     },
     "execution_count": 36,
     "metadata": {},
     "output_type": "execute_result"
    },
    {
     "data": {
      "image/png": "[encoded data removed]",
      "text/plain": [
       "<Figure size 800x600 with 1 Axes>"
      ]
     },
     "metadata": {},
     "output_type": "display_data"
    }
   ],
   "source": [
    "plt.figure(figsize=(8,6))\n",
    "sns.boxplot(x='Survived', y= 'Age', hue='Sex', data= train)"
   ]
  },
  {
   "cell_type": "code",
   "execution_count": 37,
   "id": "5bd86a71",
   "metadata": {
    "execution": {
     "iopub.execute_input": "2024-09-17T00:00:35.830558Z",
     "iopub.status.busy": "2024-09-17T00:00:35.829364Z",
     "iopub.status.idle": "2024-09-17T00:00:36.136316Z",
     "shell.execute_reply": "2024-09-17T00:00:36.134691Z"
    },
    "papermill": {
     "duration": 0.337508,
     "end_time": "2024-09-17T00:00:36.139591",
     "exception": false,
     "start_time": "2024-09-17T00:00:35.802083",
     "status": "completed"
    },
    "tags": []
   },
   "outputs": [
    {
     "data": {
      "text/plain": [
       "<Axes: xlabel='Pclass', ylabel='Fare'>"
      ]
     },
     "execution_count": 37,
     "metadata": {},
     "output_type": "execute_result"
    },
    {
     "data": {
      "image/png": "[encoded data removed]",
      "text/plain": [
       "<Figure size 800x600 with 1 Axes>"
      ]
     },
     "metadata": {},
     "output_type": "display_data"
    }
   ],
   "source": [
    "plt.figure(figsize=(8,6))\n",
    "sns.boxplot(x='Pclass', y= 'Fare', data= train)"
   ]
  },
  {
   "cell_type": "code",
   "execution_count": 38,
   "id": "4c4fc9b7",
   "metadata": {
    "execution": {
     "iopub.execute_input": "2024-09-17T00:00:36.192191Z",
     "iopub.status.busy": "2024-09-17T00:00:36.191660Z",
     "iopub.status.idle": "2024-09-17T00:00:36.452751Z",
     "shell.execute_reply": "2024-09-17T00:00:36.451314Z"
    },
    "papermill": {
     "duration": 0.290527,
     "end_time": "2024-09-17T00:00:36.455681",
     "exception": false,
     "start_time": "2024-09-17T00:00:36.165154",
     "status": "completed"
    },
    "tags": []
   },
   "outputs": [
    {
     "data": {
      "text/plain": [
       "<Axes: xlabel='Sex', ylabel='count'>"
      ]
     },
     "execution_count": 38,
     "metadata": {},
     "output_type": "execute_result"
    },
    {
     "data": {
      "image/png": "[encoded data removed]",
      "text/plain": [
       "<Figure size 800x600 with 1 Axes>"
      ]
     },
     "metadata": {},
     "output_type": "display_data"
    }
   ],
   "source": [
    "plt.figure(figsize=(8,6))\n",
    "sns.countplot(x='Sex', data= test)"
   ]
  },
  {
   "cell_type": "code",
   "execution_count": 39,
   "id": "ce4f2237",
   "metadata": {
    "execution": {
     "iopub.execute_input": "2024-09-17T00:00:36.508695Z",
     "iopub.status.busy": "2024-09-17T00:00:36.507725Z",
     "iopub.status.idle": "2024-09-17T00:00:36.811059Z",
     "shell.execute_reply": "2024-09-17T00:00:36.809344Z"
    },
    "papermill": {
     "duration": 0.333415,
     "end_time": "2024-09-17T00:00:36.814187",
     "exception": false,
     "start_time": "2024-09-17T00:00:36.480772",
     "status": "completed"
    },
    "tags": []
   },
   "outputs": [
    {
     "data": {
      "text/plain": [
       "<Axes: xlabel='Pclass', ylabel='Fare'>"
      ]
     },
     "execution_count": 39,
     "metadata": {},
     "output_type": "execute_result"
    },
    {
     "data": {
      "image/png": "[encoded data removed]",
      "text/plain": [
       "<Figure size 800x600 with 1 Axes>"
      ]
     },
     "metadata": {},
     "output_type": "display_data"
    }
   ],
   "source": [
    "plt.figure(figsize=(8,6))\n",
    "sns.boxplot(x='Pclass', y= 'Fare', data= test)"
   ]
  },
  {
   "cell_type": "code",
   "execution_count": 40,
   "id": "46640478",
   "metadata": {
    "execution": {
     "iopub.execute_input": "2024-09-17T00:00:36.867577Z",
     "iopub.status.busy": "2024-09-17T00:00:36.867131Z",
     "iopub.status.idle": "2024-09-17T00:00:37.232619Z",
     "shell.execute_reply": "2024-09-17T00:00:37.231141Z"
    },
    "papermill": {
     "duration": 0.395565,
     "end_time": "2024-09-17T00:00:37.235471",
     "exception": false,
     "start_time": "2024-09-17T00:00:36.839906",
     "status": "completed"
    },
    "tags": []
   },
   "outputs": [
    {
     "data": {
      "text/plain": [
       "<Axes: >"
      ]
     },
     "execution_count": 40,
     "metadata": {},
     "output_type": "execute_result"
    },
    {
     "data": {
      "image/png": "[encoded data removed]",
      "text/plain": [
       "<Figure size 1000x800 with 1 Axes>"
      ]
     },
     "metadata": {},
     "output_type": "display_data"
    }
   ],
   "source": [
    "train.plot(kind='box', figsize= (10,8))"
   ]
  },
  {
   "cell_type": "code",
   "execution_count": 41,
   "id": "e1ee808d",
   "metadata": {
    "execution": {
     "iopub.execute_input": "2024-09-17T00:00:37.290283Z",
     "iopub.status.busy": "2024-09-17T00:00:37.289839Z",
     "iopub.status.idle": "2024-09-17T00:00:37.310341Z",
     "shell.execute_reply": "2024-09-17T00:00:37.308975Z"
    },
    "papermill": {
     "duration": 0.052056,
     "end_time": "2024-09-17T00:00:37.313540",
     "exception": false,
     "start_time": "2024-09-17T00:00:37.261484",
     "status": "completed"
    },
    "tags": []
   },
   "outputs": [],
   "source": [
    "cols= ['Age', 'SibSp', 'Parch', 'Fare']\n",
    "\n",
    "train[cols]= train[cols].clip(lower= train[cols].quantile(0.15), upper= train[cols].quantile(0.85), axis=1)\n",
    "\n",
    "train.drop(columns=['Parch'], axis=1, inplace=True)"
   ]
  },
  {
   "cell_type": "code",
   "execution_count": 42,
   "id": "29925805",
   "metadata": {
    "execution": {
     "iopub.execute_input": "2024-09-17T00:00:37.368563Z",
     "iopub.status.busy": "2024-09-17T00:00:37.368101Z",
     "iopub.status.idle": "2024-09-17T00:00:37.647585Z",
     "shell.execute_reply": "2024-09-17T00:00:37.645979Z"
    },
    "papermill": {
     "duration": 0.310411,
     "end_time": "2024-09-17T00:00:37.650355",
     "exception": false,
     "start_time": "2024-09-17T00:00:37.339944",
     "status": "completed"
    },
    "tags": []
   },
   "outputs": [
    {
     "data": {
      "text/plain": [
       "<Axes: >"
      ]
     },
     "execution_count": 42,
     "metadata": {},
     "output_type": "execute_result"
    },
    {
     "data": {
      "image/png": "[encoded data removed]",
      "text/plain": [
       "<Figure size 1000x800 with 1 Axes>"
      ]
     },
     "metadata": {},
     "output_type": "display_data"
    }
   ],
   "source": [
    "train.plot(kind='box', figsize= (10,8)) "
   ]
  },
  {
   "cell_type": "code",
   "execution_count": 43,
   "id": "8973a53d",
   "metadata": {
    "execution": {
     "iopub.execute_input": "2024-09-17T00:00:37.706196Z",
     "iopub.status.busy": "2024-09-17T00:00:37.705711Z",
     "iopub.status.idle": "2024-09-17T00:00:38.031021Z",
     "shell.execute_reply": "2024-09-17T00:00:38.029642Z"
    },
    "papermill": {
     "duration": 0.356713,
     "end_time": "2024-09-17T00:00:38.033867",
     "exception": false,
     "start_time": "2024-09-17T00:00:37.677154",
     "status": "completed"
    },
    "tags": []
   },
   "outputs": [
    {
     "data": {
      "text/plain": [
       "<Axes: >"
      ]
     },
     "execution_count": 43,
     "metadata": {},
     "output_type": "execute_result"
    },
    {
     "data": {
      "image/png": "[encoded data removed]",
      "text/plain": [
       "<Figure size 1000x800 with 1 Axes>"
      ]
     },
     "metadata": {},
     "output_type": "display_data"
    }
   ],
   "source": [
    "test.plot(kind='box', figsize= (10,8))"
   ]
  },
  {
   "cell_type": "code",
   "execution_count": 44,
   "id": "262c95bf",
   "metadata": {
    "execution": {
     "iopub.execute_input": "2024-09-17T00:00:38.091314Z",
     "iopub.status.busy": "2024-09-17T00:00:38.090836Z",
     "iopub.status.idle": "2024-09-17T00:00:38.108593Z",
     "shell.execute_reply": "2024-09-17T00:00:38.107290Z"
    },
    "papermill": {
     "duration": 0.051435,
     "end_time": "2024-09-17T00:00:38.113008",
     "exception": false,
     "start_time": "2024-09-17T00:00:38.061573",
     "status": "completed"
    },
    "tags": []
   },
   "outputs": [],
   "source": [
    "test[cols]= test[cols].clip(lower= test[cols].quantile(0.15), upper= test[cols].quantile(0.85), axis=1)\n",
    "\n",
    "test.drop(columns=['Parch'], axis=1, inplace=True)"
   ]
  },
  {
   "cell_type": "code",
   "execution_count": 45,
   "id": "019f5bc5",
   "metadata": {
    "execution": {
     "iopub.execute_input": "2024-09-17T00:00:38.168992Z",
     "iopub.status.busy": "2024-09-17T00:00:38.168500Z",
     "iopub.status.idle": "2024-09-17T00:00:38.489269Z",
     "shell.execute_reply": "2024-09-17T00:00:38.487670Z"
    },
    "papermill": {
     "duration": 0.351544,
     "end_time": "2024-09-17T00:00:38.491818",
     "exception": false,
     "start_time": "2024-09-17T00:00:38.140274",
     "status": "completed"
    },
    "tags": []
   },
   "outputs": [
    {
     "data": {
      "text/plain": [
       "<Axes: >"
      ]
     },
     "execution_count": 45,
     "metadata": {},
     "output_type": "execute_result"
    },
    {
     "data": {
      "image/png": "[encoded data removed]",
      "text/plain": [
       "<Figure size 1000x800 with 1 Axes>"
      ]
     },
     "metadata": {},
     "output_type": "display_data"
    }
   ],
   "source": [
    "test.plot(kind='box', figsize= (10,8))  "
   ]
  },
  {
   "cell_type": "code",
   "execution_count": 46,
   "id": "63e72e1f",
   "metadata": {
    "execution": {
     "iopub.execute_input": "2024-09-17T00:00:38.550474Z",
     "iopub.status.busy": "2024-09-17T00:00:38.549975Z",
     "iopub.status.idle": "2024-09-17T00:00:38.568082Z",
     "shell.execute_reply": "2024-09-17T00:00:38.566819Z"
    },
    "papermill": {
     "duration": 0.051754,
     "end_time": "2024-09-17T00:00:38.571252",
     "exception": false,
     "start_time": "2024-09-17T00:00:38.519498",
     "status": "completed"
    },
    "tags": []
   },
   "outputs": [],
   "source": [
    "train= pd.get_dummies(train, columns=['Pclass', 'Sex', 'Embarked' ], drop_first= True)\n",
    "\n",
    "test= pd.get_dummies(test, columns=['Pclass', 'Sex', 'Embarked' ], drop_first= True)"
   ]
  },
  {
   "cell_type": "code",
   "execution_count": 47,
   "id": "9a7c7a62",
   "metadata": {
    "execution": {
     "iopub.execute_input": "2024-09-17T00:00:38.629031Z",
     "iopub.status.busy": "2024-09-17T00:00:38.628609Z",
     "iopub.status.idle": "2024-09-17T00:00:38.650824Z",
     "shell.execute_reply": "2024-09-17T00:00:38.649393Z"
    },
    "papermill": {
     "duration": 0.055105,
     "end_time": "2024-09-17T00:00:38.654489",
     "exception": false,
     "start_time": "2024-09-17T00:00:38.599384",
     "status": "completed"
    },
    "tags": []
   },
   "outputs": [
    {
     "data": {
      "text/html": [
       "<div>\n",
       "<style scoped>\n",
       "    .dataframe tbody tr th:only-of-type {\n",
       "        vertical-align: middle;\n",
       "    }\n",
       "\n",
       "    .dataframe tbody tr th {\n",
       "        vertical-align: top;\n",
       "    }\n",
       "\n",
       "    .dataframe thead th {\n",
       "        text-align: right;\n",
       "    }\n",
       "</style>\n",
       "<table border=\"1\" class=\"dataframe\">\n",
       "  <thead>\n",
       "    <tr style=\"text-align: right;\">\n",
       "      <th></th>\n",
       "      <th>Survived</th>\n",
       "      <th>Age</th>\n",
       "      <th>SibSp</th>\n",
       "      <th>Fare</th>\n",
       "      <th>Pclass_2</th>\n",
       "      <th>Pclass_3</th>\n",
       "      <th>Sex_male</th>\n",
       "      <th>Embarked_Q</th>\n",
       "      <th>Embarked_S</th>\n",
       "    </tr>\n",
       "  </thead>\n",
       "  <tbody>\n",
       "    <tr>\n",
       "      <th>0</th>\n",
       "      <td>0</td>\n",
       "      <td>22.0</td>\n",
       "      <td>1</td>\n",
       "      <td>7.7500</td>\n",
       "      <td>False</td>\n",
       "      <td>True</td>\n",
       "      <td>True</td>\n",
       "      <td>False</td>\n",
       "      <td>True</td>\n",
       "    </tr>\n",
       "    <tr>\n",
       "      <th>1</th>\n",
       "      <td>1</td>\n",
       "      <td>38.0</td>\n",
       "      <td>1</td>\n",
       "      <td>56.4958</td>\n",
       "      <td>False</td>\n",
       "      <td>False</td>\n",
       "      <td>False</td>\n",
       "      <td>False</td>\n",
       "      <td>False</td>\n",
       "    </tr>\n",
       "    <tr>\n",
       "      <th>2</th>\n",
       "      <td>1</td>\n",
       "      <td>26.0</td>\n",
       "      <td>0</td>\n",
       "      <td>7.9250</td>\n",
       "      <td>False</td>\n",
       "      <td>True</td>\n",
       "      <td>False</td>\n",
       "      <td>False</td>\n",
       "      <td>True</td>\n",
       "    </tr>\n",
       "    <tr>\n",
       "      <th>3</th>\n",
       "      <td>1</td>\n",
       "      <td>35.0</td>\n",
       "      <td>1</td>\n",
       "      <td>53.1000</td>\n",
       "      <td>False</td>\n",
       "      <td>False</td>\n",
       "      <td>False</td>\n",
       "      <td>False</td>\n",
       "      <td>True</td>\n",
       "    </tr>\n",
       "    <tr>\n",
       "      <th>4</th>\n",
       "      <td>0</td>\n",
       "      <td>35.0</td>\n",
       "      <td>0</td>\n",
       "      <td>8.0500</td>\n",
       "      <td>False</td>\n",
       "      <td>True</td>\n",
       "      <td>True</td>\n",
       "      <td>False</td>\n",
       "      <td>True</td>\n",
       "    </tr>\n",
       "  </tbody>\n",
       "</table>\n",
       "</div>"
      ],
      "text/plain": [
       "   Survived   Age  SibSp     Fare  Pclass_2  Pclass_3  Sex_male  Embarked_Q  \\\n",
       "0         0  22.0      1   7.7500     False      True      True       False   \n",
       "1         1  38.0      1  56.4958     False     False     False       False   \n",
       "2         1  26.0      0   7.9250     False      True     False       False   \n",
       "3         1  35.0      1  53.1000     False     False     False       False   \n",
       "4         0  35.0      0   8.0500     False      True      True       False   \n",
       "\n",
       "   Embarked_S  \n",
       "0        True  \n",
       "1       False  \n",
       "2        True  \n",
       "3        True  \n",
       "4        True  "
      ]
     },
     "execution_count": 47,
     "metadata": {},
     "output_type": "execute_result"
    }
   ],
   "source": [
    "train.head()"
   ]
  },
  {
   "cell_type": "code",
   "execution_count": 48,
   "id": "ba4a5143",
   "metadata": {
    "execution": {
     "iopub.execute_input": "2024-09-17T00:00:38.713410Z",
     "iopub.status.busy": "2024-09-17T00:00:38.712889Z",
     "iopub.status.idle": "2024-09-17T00:00:38.730749Z",
     "shell.execute_reply": "2024-09-17T00:00:38.729579Z"
    },
    "papermill": {
     "duration": 0.050669,
     "end_time": "2024-09-17T00:00:38.733668",
     "exception": false,
     "start_time": "2024-09-17T00:00:38.682999",
     "status": "completed"
    },
    "tags": []
   },
   "outputs": [
    {
     "data": {
      "text/html": [
       "<div>\n",
       "<style scoped>\n",
       "    .dataframe tbody tr th:only-of-type {\n",
       "        vertical-align: middle;\n",
       "    }\n",
       "\n",
       "    .dataframe tbody tr th {\n",
       "        vertical-align: top;\n",
       "    }\n",
       "\n",
       "    .dataframe thead th {\n",
       "        text-align: right;\n",
       "    }\n",
       "</style>\n",
       "<table border=\"1\" class=\"dataframe\">\n",
       "  <thead>\n",
       "    <tr style=\"text-align: right;\">\n",
       "      <th></th>\n",
       "      <th>Age</th>\n",
       "      <th>SibSp</th>\n",
       "      <th>Fare</th>\n",
       "      <th>Pclass_2</th>\n",
       "      <th>Pclass_3</th>\n",
       "      <th>Sex_male</th>\n",
       "      <th>Embarked_Q</th>\n",
       "      <th>Embarked_S</th>\n",
       "    </tr>\n",
       "  </thead>\n",
       "  <tbody>\n",
       "    <tr>\n",
       "      <th>0</th>\n",
       "      <td>34.5</td>\n",
       "      <td>0</td>\n",
       "      <td>7.8292</td>\n",
       "      <td>False</td>\n",
       "      <td>True</td>\n",
       "      <td>True</td>\n",
       "      <td>True</td>\n",
       "      <td>False</td>\n",
       "    </tr>\n",
       "    <tr>\n",
       "      <th>1</th>\n",
       "      <td>43.0</td>\n",
       "      <td>1</td>\n",
       "      <td>7.7500</td>\n",
       "      <td>False</td>\n",
       "      <td>True</td>\n",
       "      <td>False</td>\n",
       "      <td>False</td>\n",
       "      <td>True</td>\n",
       "    </tr>\n",
       "    <tr>\n",
       "      <th>2</th>\n",
       "      <td>43.0</td>\n",
       "      <td>0</td>\n",
       "      <td>9.6875</td>\n",
       "      <td>True</td>\n",
       "      <td>False</td>\n",
       "      <td>True</td>\n",
       "      <td>True</td>\n",
       "      <td>False</td>\n",
       "    </tr>\n",
       "    <tr>\n",
       "      <th>3</th>\n",
       "      <td>27.0</td>\n",
       "      <td>0</td>\n",
       "      <td>8.6625</td>\n",
       "      <td>False</td>\n",
       "      <td>True</td>\n",
       "      <td>True</td>\n",
       "      <td>False</td>\n",
       "      <td>True</td>\n",
       "    </tr>\n",
       "    <tr>\n",
       "      <th>4</th>\n",
       "      <td>22.0</td>\n",
       "      <td>1</td>\n",
       "      <td>12.2875</td>\n",
       "      <td>False</td>\n",
       "      <td>True</td>\n",
       "      <td>False</td>\n",
       "      <td>False</td>\n",
       "      <td>True</td>\n",
       "    </tr>\n",
       "  </tbody>\n",
       "</table>\n",
       "</div>"
      ],
      "text/plain": [
       "    Age  SibSp     Fare  Pclass_2  Pclass_3  Sex_male  Embarked_Q  Embarked_S\n",
       "0  34.5      0   7.8292     False      True      True        True       False\n",
       "1  43.0      1   7.7500     False      True     False       False        True\n",
       "2  43.0      0   9.6875      True     False      True        True       False\n",
       "3  27.0      0   8.6625     False      True      True       False        True\n",
       "4  22.0      1  12.2875     False      True     False       False        True"
      ]
     },
     "execution_count": 48,
     "metadata": {},
     "output_type": "execute_result"
    }
   ],
   "source": [
    "test.head()"
   ]
  },
  {
   "cell_type": "code",
   "execution_count": 49,
   "id": "1f05f489",
   "metadata": {
    "execution": {
     "iopub.execute_input": "2024-09-17T00:00:38.791869Z",
     "iopub.status.busy": "2024-09-17T00:00:38.791412Z",
     "iopub.status.idle": "2024-09-17T00:00:38.799149Z",
     "shell.execute_reply": "2024-09-17T00:00:38.797544Z"
    },
    "papermill": {
     "duration": 0.039868,
     "end_time": "2024-09-17T00:00:38.802101",
     "exception": false,
     "start_time": "2024-09-17T00:00:38.762233",
     "status": "completed"
    },
    "tags": []
   },
   "outputs": [],
   "source": [
    "X_train= train.iloc[:, 1:]\n",
    "y_train= train['Survived'].values.reshape(-1,1)\n",
    "\n",
    "X_test= test"
   ]
  },
  {
   "cell_type": "code",
   "execution_count": 50,
   "id": "2bc90ac8",
   "metadata": {
    "execution": {
     "iopub.execute_input": "2024-09-17T00:00:38.862009Z",
     "iopub.status.busy": "2024-09-17T00:00:38.861536Z",
     "iopub.status.idle": "2024-09-17T00:00:39.195767Z",
     "shell.execute_reply": "2024-09-17T00:00:39.194225Z"
    },
    "papermill": {
     "duration": 0.367361,
     "end_time": "2024-09-17T00:00:39.198968",
     "exception": false,
     "start_time": "2024-09-17T00:00:38.831607",
     "status": "completed"
    },
    "tags": []
   },
   "outputs": [],
   "source": [
    "from sklearn.preprocessing import StandardScaler\n",
    "ss= StandardScaler()"
   ]
  },
  {
   "cell_type": "code",
   "execution_count": 51,
   "id": "b7d9e9eb",
   "metadata": {
    "execution": {
     "iopub.execute_input": "2024-09-17T00:00:39.260124Z",
     "iopub.status.busy": "2024-09-17T00:00:39.259505Z",
     "iopub.status.idle": "2024-09-17T00:00:39.279781Z",
     "shell.execute_reply": "2024-09-17T00:00:39.278303Z"
    },
    "papermill": {
     "duration": 0.05411,
     "end_time": "2024-09-17T00:00:39.283005",
     "exception": false,
     "start_time": "2024-09-17T00:00:39.228895",
     "status": "completed"
    },
    "tags": []
   },
   "outputs": [],
   "source": [
    "features= ['Age', 'SibSp', 'Fare']\n",
    "\n",
    "X_train[features]= ss.fit_transform(X_train[features])\n",
    "X_test[features]= ss.fit_transform(X_test[features])"
   ]
  },
  {
   "cell_type": "code",
   "execution_count": 52,
   "id": "ef53b79e",
   "metadata": {
    "execution": {
     "iopub.execute_input": "2024-09-17T00:00:39.341006Z",
     "iopub.status.busy": "2024-09-17T00:00:39.340473Z",
     "iopub.status.idle": "2024-09-17T00:00:39.359919Z",
     "shell.execute_reply": "2024-09-17T00:00:39.358590Z"
    },
    "papermill": {
     "duration": 0.051821,
     "end_time": "2024-09-17T00:00:39.362818",
     "exception": false,
     "start_time": "2024-09-17T00:00:39.310997",
     "status": "completed"
    },
    "tags": []
   },
   "outputs": [
    {
     "data": {
      "text/html": [
       "<div>\n",
       "<style scoped>\n",
       "    .dataframe tbody tr th:only-of-type {\n",
       "        vertical-align: middle;\n",
       "    }\n",
       "\n",
       "    .dataframe tbody tr th {\n",
       "        vertical-align: top;\n",
       "    }\n",
       "\n",
       "    .dataframe thead th {\n",
       "        text-align: right;\n",
       "    }\n",
       "</style>\n",
       "<table border=\"1\" class=\"dataframe\">\n",
       "  <thead>\n",
       "    <tr style=\"text-align: right;\">\n",
       "      <th></th>\n",
       "      <th>Age</th>\n",
       "      <th>SibSp</th>\n",
       "      <th>Fare</th>\n",
       "      <th>Pclass_2</th>\n",
       "      <th>Pclass_3</th>\n",
       "      <th>Sex_male</th>\n",
       "      <th>Embarked_Q</th>\n",
       "      <th>Embarked_S</th>\n",
       "    </tr>\n",
       "  </thead>\n",
       "  <tbody>\n",
       "    <tr>\n",
       "      <th>0</th>\n",
       "      <td>-0.865086</td>\n",
       "      <td>1.465746</td>\n",
       "      <td>-0.853616</td>\n",
       "      <td>False</td>\n",
       "      <td>True</td>\n",
       "      <td>True</td>\n",
       "      <td>False</td>\n",
       "      <td>True</td>\n",
       "    </tr>\n",
       "    <tr>\n",
       "      <th>1</th>\n",
       "      <td>1.123252</td>\n",
       "      <td>1.465746</td>\n",
       "      <td>1.876088</td>\n",
       "      <td>False</td>\n",
       "      <td>False</td>\n",
       "      <td>False</td>\n",
       "      <td>False</td>\n",
       "      <td>False</td>\n",
       "    </tr>\n",
       "    <tr>\n",
       "      <th>2</th>\n",
       "      <td>-0.368001</td>\n",
       "      <td>-0.682247</td>\n",
       "      <td>-0.843816</td>\n",
       "      <td>False</td>\n",
       "      <td>True</td>\n",
       "      <td>False</td>\n",
       "      <td>False</td>\n",
       "      <td>True</td>\n",
       "    </tr>\n",
       "    <tr>\n",
       "      <th>3</th>\n",
       "      <td>0.750438</td>\n",
       "      <td>1.465746</td>\n",
       "      <td>1.685928</td>\n",
       "      <td>False</td>\n",
       "      <td>False</td>\n",
       "      <td>False</td>\n",
       "      <td>False</td>\n",
       "      <td>True</td>\n",
       "    </tr>\n",
       "    <tr>\n",
       "      <th>4</th>\n",
       "      <td>0.750438</td>\n",
       "      <td>-0.682247</td>\n",
       "      <td>-0.836817</td>\n",
       "      <td>False</td>\n",
       "      <td>True</td>\n",
       "      <td>True</td>\n",
       "      <td>False</td>\n",
       "      <td>True</td>\n",
       "    </tr>\n",
       "  </tbody>\n",
       "</table>\n",
       "</div>"
      ],
      "text/plain": [
       "        Age     SibSp      Fare  Pclass_2  Pclass_3  Sex_male  Embarked_Q  \\\n",
       "0 -0.865086  1.465746 -0.853616     False      True      True       False   \n",
       "1  1.123252  1.465746  1.876088     False     False     False       False   \n",
       "2 -0.368001 -0.682247 -0.843816     False      True     False       False   \n",
       "3  0.750438  1.465746  1.685928     False     False     False       False   \n",
       "4  0.750438 -0.682247 -0.836817     False      True      True       False   \n",
       "\n",
       "   Embarked_S  \n",
       "0        True  \n",
       "1       False  \n",
       "2        True  \n",
       "3        True  \n",
       "4        True  "
      ]
     },
     "execution_count": 52,
     "metadata": {},
     "output_type": "execute_result"
    }
   ],
   "source": [
    "X_train.head()"
   ]
  },
  {
   "cell_type": "code",
   "execution_count": 53,
   "id": "fe569f08",
   "metadata": {
    "execution": {
     "iopub.execute_input": "2024-09-17T00:00:39.424881Z",
     "iopub.status.busy": "2024-09-17T00:00:39.423494Z",
     "iopub.status.idle": "2024-09-17T00:00:39.441408Z",
     "shell.execute_reply": "2024-09-17T00:00:39.439914Z"
    },
    "papermill": {
     "duration": 0.051978,
     "end_time": "2024-09-17T00:00:39.444749",
     "exception": false,
     "start_time": "2024-09-17T00:00:39.392771",
     "status": "completed"
    },
    "tags": []
   },
   "outputs": [
    {
     "data": {
      "text/html": [
       "<div>\n",
       "<style scoped>\n",
       "    .dataframe tbody tr th:only-of-type {\n",
       "        vertical-align: middle;\n",
       "    }\n",
       "\n",
       "    .dataframe tbody tr th {\n",
       "        vertical-align: top;\n",
       "    }\n",
       "\n",
       "    .dataframe thead th {\n",
       "        text-align: right;\n",
       "    }\n",
       "</style>\n",
       "<table border=\"1\" class=\"dataframe\">\n",
       "  <thead>\n",
       "    <tr style=\"text-align: right;\">\n",
       "      <th></th>\n",
       "      <th>Age</th>\n",
       "      <th>SibSp</th>\n",
       "      <th>Fare</th>\n",
       "      <th>Pclass_2</th>\n",
       "      <th>Pclass_3</th>\n",
       "      <th>Sex_male</th>\n",
       "      <th>Embarked_Q</th>\n",
       "      <th>Embarked_S</th>\n",
       "    </tr>\n",
       "  </thead>\n",
       "  <tbody>\n",
       "    <tr>\n",
       "      <th>0</th>\n",
       "      <td>0.660130</td>\n",
       "      <td>-0.690675</td>\n",
       "      <td>-0.830005</td>\n",
       "      <td>False</td>\n",
       "      <td>True</td>\n",
       "      <td>True</td>\n",
       "      <td>True</td>\n",
       "      <td>False</td>\n",
       "    </tr>\n",
       "    <tr>\n",
       "      <th>1</th>\n",
       "      <td>1.731843</td>\n",
       "      <td>1.447859</td>\n",
       "      <td>-0.834124</td>\n",
       "      <td>False</td>\n",
       "      <td>True</td>\n",
       "      <td>False</td>\n",
       "      <td>False</td>\n",
       "      <td>True</td>\n",
       "    </tr>\n",
       "    <tr>\n",
       "      <th>2</th>\n",
       "      <td>1.731843</td>\n",
       "      <td>-0.690675</td>\n",
       "      <td>-0.733364</td>\n",
       "      <td>True</td>\n",
       "      <td>False</td>\n",
       "      <td>True</td>\n",
       "      <td>True</td>\n",
       "      <td>False</td>\n",
       "    </tr>\n",
       "    <tr>\n",
       "      <th>3</th>\n",
       "      <td>-0.285498</td>\n",
       "      <td>-0.690675</td>\n",
       "      <td>-0.786669</td>\n",
       "      <td>False</td>\n",
       "      <td>True</td>\n",
       "      <td>True</td>\n",
       "      <td>False</td>\n",
       "      <td>True</td>\n",
       "    </tr>\n",
       "    <tr>\n",
       "      <th>4</th>\n",
       "      <td>-0.915918</td>\n",
       "      <td>1.447859</td>\n",
       "      <td>-0.598151</td>\n",
       "      <td>False</td>\n",
       "      <td>True</td>\n",
       "      <td>False</td>\n",
       "      <td>False</td>\n",
       "      <td>True</td>\n",
       "    </tr>\n",
       "  </tbody>\n",
       "</table>\n",
       "</div>"
      ],
      "text/plain": [
       "        Age     SibSp      Fare  Pclass_2  Pclass_3  Sex_male  Embarked_Q  \\\n",
       "0  0.660130 -0.690675 -0.830005     False      True      True        True   \n",
       "1  1.731843  1.447859 -0.834124     False      True     False       False   \n",
       "2  1.731843 -0.690675 -0.733364      True     False      True        True   \n",
       "3 -0.285498 -0.690675 -0.786669     False      True      True       False   \n",
       "4 -0.915918  1.447859 -0.598151     False      True     False       False   \n",
       "\n",
       "   Embarked_S  \n",
       "0       False  \n",
       "1        True  \n",
       "2       False  \n",
       "3        True  \n",
       "4        True  "
      ]
     },
     "execution_count": 53,
     "metadata": {},
     "output_type": "execute_result"
    }
   ],
   "source": [
    "X_test.head()"
   ]
  },
  {
   "cell_type": "code",
   "execution_count": 54,
   "id": "dfe4feb2",
   "metadata": {
    "execution": {
     "iopub.execute_input": "2024-09-17T00:00:39.505239Z",
     "iopub.status.busy": "2024-09-17T00:00:39.504665Z",
     "iopub.status.idle": "2024-09-17T00:00:39.762966Z",
     "shell.execute_reply": "2024-09-17T00:00:39.761509Z"
    },
    "papermill": {
     "duration": 0.291645,
     "end_time": "2024-09-17T00:00:39.766155",
     "exception": false,
     "start_time": "2024-09-17T00:00:39.474510",
     "status": "completed"
    },
    "tags": []
   },
   "outputs": [],
   "source": [
    "from sklearn.linear_model import LogisticRegression\n",
    "\n",
    "clf= LogisticRegression()\n",
    "\n",
    "clf.fit(X_train, y_train.ravel())\n",
    "\n",
    "predictions= clf.predict(X_test)"
   ]
  },
  {
   "cell_type": "code",
   "execution_count": 55,
   "id": "0b12df66",
   "metadata": {
    "execution": {
     "iopub.execute_input": "2024-09-17T00:00:39.826185Z",
     "iopub.status.busy": "2024-09-17T00:00:39.825611Z",
     "iopub.status.idle": "2024-09-17T00:00:39.837656Z",
     "shell.execute_reply": "2024-09-17T00:00:39.835971Z"
    },
    "papermill": {
     "duration": 0.045366,
     "end_time": "2024-09-17T00:00:39.840317",
     "exception": false,
     "start_time": "2024-09-17T00:00:39.794951",
     "status": "completed"
    },
    "tags": []
   },
   "outputs": [
    {
     "name": "stdout",
     "output_type": "stream",
     "text": [
      "0.792368125701459\n"
     ]
    }
   ],
   "source": [
    "print(clf.score(X_train, y_train))"
   ]
  },
  {
   "cell_type": "code",
   "execution_count": 56,
   "id": "2821e66e",
   "metadata": {
    "execution": {
     "iopub.execute_input": "2024-09-17T00:00:39.900213Z",
     "iopub.status.busy": "2024-09-17T00:00:39.899656Z",
     "iopub.status.idle": "2024-09-17T00:00:39.910395Z",
     "shell.execute_reply": "2024-09-17T00:00:39.908721Z"
    },
    "papermill": {
     "duration": 0.044426,
     "end_time": "2024-09-17T00:00:39.913937",
     "exception": false,
     "start_time": "2024-09-17T00:00:39.869511",
     "status": "completed"
    },
    "tags": []
   },
   "outputs": [
    {
     "name": "stdout",
     "output_type": "stream",
     "text": [
      "   PassengerId  Survived\n",
      "0          892         0\n",
      "1          893         0\n",
      "2          894         0\n",
      "3          895         0\n",
      "4          896         1\n"
     ]
    }
   ],
   "source": [
    "submission= pd.DataFrame({'PassengerId' : test_df['PassengerId'], 'Survived': predictions })\n",
    "\n",
    "print(submission.head())"
   ]
  },
  {
   "cell_type": "code",
   "execution_count": 57,
   "id": "70ec7a84",
   "metadata": {
    "execution": {
     "iopub.execute_input": "2024-09-17T00:00:39.979803Z",
     "iopub.status.busy": "2024-09-17T00:00:39.979284Z",
     "iopub.status.idle": "2024-09-17T00:00:39.991339Z",
     "shell.execute_reply": "2024-09-17T00:00:39.989629Z"
    },
    "papermill": {
     "duration": 0.049161,
     "end_time": "2024-09-17T00:00:39.994917",
     "exception": false,
     "start_time": "2024-09-17T00:00:39.945756",
     "status": "completed"
    },
    "tags": []
   },
   "outputs": [],
   "source": [
    "filename= 'titanic predictions.csv'\n",
    "submission.to_csv(filename, index=False)"
   ]
  }
 ],
 "metadata": {
  "kaggle": {
   "accelerator": "none",
   "dataSources": [
    {
     "databundleVersionId": 26502,
     "sourceId": 3136,
     "sourceType": "competition"
    },
    {
     "databundleVersionId": 6590071,
     "sourceId": 61131,
     "sourceType": "competition"
    }
   ],
   "dockerImageVersionId": 30761,
   "isGpuEnabled": false,
   "isInternetEnabled": false,
   "language": "python",
   "sourceType": "notebook"
  },
  "kernelspec": {
   "display_name": "Python 3",
   "language": "python",
   "name": "python3"
  },
  "language_info": {
   "codemirror_mode": {
    "name": "ipython",
    "version": 3
   },
   "file_extension": ".py",
   "mimetype": "text/x-python",
   "name": "python",
   "nbconvert_exporter": "python",
   "pygments_lexer": "ipython3",
   "version": "3.10.14"
  },
  "papermill": {
   "default_parameters": {},
   "duration": 16.631862,
   "end_time": "2024-09-17T00:00:40.858520",
   "environment_variables": {},
   "exception": null,
   "input_path": "__notebook__.ipynb",
   "output_path": "__notebook__.ipynb",
   "parameters": {},
   "start_time": "2024-09-17T00:00:24.226658",
   "version": "2.6.0"
  }
 },
 "nbformat": 4,
 "nbformat_minor": 5
}
